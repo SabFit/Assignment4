{
 "cells": [
  {
   "cell_type": "markdown",
   "id": "6784f8cc-7108-4054-a0dc-699bc2bf769c",
   "metadata": {},
   "source": [
    "1. What exactly is []?"
   ]
  },
  {
   "cell_type": "markdown",
   "id": "5b3e13d6-564b-408f-8047-acc566493bf5",
   "metadata": {},
   "source": [
    "[] is list "
   ]
  },
  {
   "cell_type": "markdown",
   "id": "5c13453b-4c8b-471c-900d-cb27e5fba7c2",
   "metadata": {},
   "source": [
    "2. In a list of values stored in a variable called spam, how would you assign the value 'hello' as the third value? (Assume [2, 4, 6, 8, 10] are in spam.)"
   ]
  },
  {
   "cell_type": "code",
   "execution_count": 2,
   "id": "d7ae8f8e-03f1-4341-b5d7-a429df7946e4",
   "metadata": {},
   "outputs": [],
   "source": [
    "spam=[2,4,6,8,10]"
   ]
  },
  {
   "cell_type": "code",
   "execution_count": 3,
   "id": "1fd36bad-3d2e-43ff-8503-e854911d9791",
   "metadata": {},
   "outputs": [
    {
     "data": {
      "text/plain": [
       "[2, 4, 6, 8, 10]"
      ]
     },
     "execution_count": 3,
     "metadata": {},
     "output_type": "execute_result"
    }
   ],
   "source": [
    "spam"
   ]
  },
  {
   "cell_type": "code",
   "execution_count": 4,
   "id": "892486de-5ccf-4b5e-9374-3778a7265868",
   "metadata": {},
   "outputs": [],
   "source": [
    "a=\"hello\""
   ]
  },
  {
   "cell_type": "code",
   "execution_count": 6,
   "id": "614e763b-e87e-4ec4-9d94-ea30d4a9c21b",
   "metadata": {},
   "outputs": [],
   "source": [
    "spam.insert(2,\"Hello\")\n"
   ]
  },
  {
   "cell_type": "code",
   "execution_count": 7,
   "id": "e63e6acb-a7c9-474d-94c9-807cbbcaf6c4",
   "metadata": {},
   "outputs": [
    {
     "data": {
      "text/plain": [
       "[2, 4, 'Hello', 6, 8, 10]"
      ]
     },
     "execution_count": 7,
     "metadata": {},
     "output_type": "execute_result"
    }
   ],
   "source": [
    "spam"
   ]
  },
  {
   "cell_type": "markdown",
   "id": "f80c51f9-9cb5-45b4-ba4e-4fe124c8518c",
   "metadata": {},
   "source": [
    "3. What is the value of spam[int(int('3' * 2) / 11)]?\n",
    "\n",
    "spam includes the list ['a', 'b', 'c', 'd'] for the next three queries"
   ]
  },
  {
   "cell_type": "code",
   "execution_count": 8,
   "id": "0f26e2c0-7266-44e6-88b4-041a8f7d925d",
   "metadata": {},
   "outputs": [],
   "source": [
    "spam=['a','b','c','d']"
   ]
  },
  {
   "cell_type": "code",
   "execution_count": 9,
   "id": "d0bf59a1-dc60-46cf-8155-4db8b1e92fe0",
   "metadata": {},
   "outputs": [
    {
     "data": {
      "text/plain": [
       "'d'"
      ]
     },
     "execution_count": 9,
     "metadata": {},
     "output_type": "execute_result"
    }
   ],
   "source": [
    "spam[int(int('3'*2)/11)]"
   ]
  },
  {
   "cell_type": "markdown",
   "id": "792f0e5c-b9be-4248-a382-4555760dd690",
   "metadata": {},
   "source": [
    "4. What is the value of spam[-1]?"
   ]
  },
  {
   "cell_type": "code",
   "execution_count": 10,
   "id": "b372db65-af06-4e65-a206-f2ee722dea33",
   "metadata": {},
   "outputs": [
    {
     "data": {
      "text/plain": [
       "'d'"
      ]
     },
     "execution_count": 10,
     "metadata": {},
     "output_type": "execute_result"
    }
   ],
   "source": [
    "spam[-1]"
   ]
  },
  {
   "cell_type": "markdown",
   "id": "ff1ec3a9-01c7-4962-b9e9-dd0f97374b1e",
   "metadata": {},
   "source": [
    "5. What is the value of spam[:2]?"
   ]
  },
  {
   "cell_type": "code",
   "execution_count": 11,
   "id": "337cfc47-675e-47ca-89c5-99dfc93889d9",
   "metadata": {},
   "outputs": [
    {
     "data": {
      "text/plain": [
       "['a', 'b']"
      ]
     },
     "execution_count": 11,
     "metadata": {},
     "output_type": "execute_result"
    }
   ],
   "source": [
    "spam[:2]"
   ]
  },
  {
   "cell_type": "markdown",
   "id": "3414a9c0-9a6e-4fba-9f5a-7e6fce4e0556",
   "metadata": {},
   "source": [
    "6. What is the value of bacon.index('cat')?\n",
    "\n",
    "Let's pretend bacon has the list [3.14, 'cat,' 11, 'cat,' True] for the next three questions"
   ]
  },
  {
   "cell_type": "code",
   "execution_count": 13,
   "id": "f6bcdea1-f72f-4606-93f4-b429fd8cd46f",
   "metadata": {},
   "outputs": [],
   "source": [
    "bacon=[3.14,'cat',11,'cat',True]"
   ]
  },
  {
   "cell_type": "code",
   "execution_count": 14,
   "id": "a943f8ce-a026-4934-889e-2f4ea4b93542",
   "metadata": {},
   "outputs": [
    {
     "data": {
      "text/plain": [
       "1"
      ]
     },
     "execution_count": 14,
     "metadata": {},
     "output_type": "execute_result"
    }
   ],
   "source": [
    "bacon.index('cat')"
   ]
  },
  {
   "cell_type": "markdown",
   "id": "bba3d7a7-d963-4309-bedf-46fb6582e3c4",
   "metadata": {},
   "source": [
    "7. How does bacon.append(99) change the look of the list value in bacon?"
   ]
  },
  {
   "cell_type": "code",
   "execution_count": 15,
   "id": "6b56e4db-b4a1-453f-91be-26fbee769582",
   "metadata": {},
   "outputs": [],
   "source": [
    "bacon.append(99)"
   ]
  },
  {
   "cell_type": "code",
   "execution_count": 16,
   "id": "e6a370d3-fad7-48b1-aaeb-4130cd9ce6ed",
   "metadata": {},
   "outputs": [
    {
     "data": {
      "text/plain": [
       "[3.14, 'cat', 11, 'cat', True, 99]"
      ]
     },
     "execution_count": 16,
     "metadata": {},
     "output_type": "execute_result"
    }
   ],
   "source": [
    "bacon"
   ]
  },
  {
   "cell_type": "markdown",
   "id": "a068affc-6607-48bb-9d70-81061f046f80",
   "metadata": {},
   "source": [
    "8. How does bacon.remove('cat') change the look of the list in bacon?"
   ]
  },
  {
   "cell_type": "code",
   "execution_count": 17,
   "id": "aa85cf3f-4095-44c7-abdc-8196cc5b1715",
   "metadata": {},
   "outputs": [],
   "source": [
    "bacon=[3.14,'cat',11,'cat',True]"
   ]
  },
  {
   "cell_type": "code",
   "execution_count": 18,
   "id": "b158dfbb-9808-405b-ad08-9fb5fd0ddc83",
   "metadata": {},
   "outputs": [],
   "source": [
    "bacon.remove('cat')"
   ]
  },
  {
   "cell_type": "code",
   "execution_count": 19,
   "id": "b3a557c7-2d22-4105-b4bd-8f3949139d84",
   "metadata": {},
   "outputs": [
    {
     "data": {
      "text/plain": [
       "[3.14, 11, 'cat', True]"
      ]
     },
     "execution_count": 19,
     "metadata": {},
     "output_type": "execute_result"
    }
   ],
   "source": [
    "bacon"
   ]
  },
  {
   "cell_type": "markdown",
   "id": "8a825d8b-cc23-44d2-ad5e-c01ebda554bd",
   "metadata": {},
   "source": [
    "9. What are the list concatenation and list replication operators?"
   ]
  },
  {
   "cell_type": "markdown",
   "id": "437b956a-9ee1-4acf-a431-76d458c3ed5e",
   "metadata": {},
   "source": [
    "Ans . operator for list concatenation is ' + '  and the operator for replication operator is '*'"
   ]
  },
  {
   "cell_type": "markdown",
   "id": "5305f28b-38de-4764-ade2-1a78332b22a4",
   "metadata": {},
   "source": [
    "10. What is difference between the list methods append() and insert()?"
   ]
  },
  {
   "cell_type": "markdown",
   "id": "f01cfbb8-0652-4513-b903-f13c10911d71",
   "metadata": {},
   "source": [
    "Ans .The difference between the two methods is that . append() adds an item to the end of a list, whereas . insert() inserts an\n",
    "item in a specified position in the list."
   ]
  },
  {
   "cell_type": "markdown",
   "id": "a41b1329-d41d-4cfc-9cd1-6a0170dc9eea",
   "metadata": {},
   "source": [
    "11. What are the two methods for removing items from a list?"
   ]
  },
  {
   "cell_type": "markdown",
   "id": "67f12e39-296c-4057-9351-9367a64bf172",
   "metadata": {},
   "source": [
    "Ans . remove() , pop() & clear()"
   ]
  },
  {
   "cell_type": "markdown",
   "id": "7e480554-d502-4b42-a7fd-b8021f3d9c6c",
   "metadata": {},
   "source": [
    "12. Describe how list values and string values are identical."
   ]
  },
  {
   "cell_type": "markdown",
   "id": "e07017f4-dc2d-4d9d-882e-60d6af3102bd",
   "metadata": {},
   "source": [
    "Ans .Both strings and list have lengths. "
   ]
  },
  {
   "cell_type": "markdown",
   "id": "f3eb61a6-2f53-4e9c-b781-56f836b5d825",
   "metadata": {},
   "source": [
    "13. What's the difference between tuples and lists?"
   ]
  },
  {
   "cell_type": "markdown",
   "id": "9088c25c-24f6-4a9d-ad9e-9b30bf491b17",
   "metadata": {},
   "source": [
    "Ans. list is mutable and tuples is immutable . tuples are faster than the list ."
   ]
  },
  {
   "cell_type": "markdown",
   "id": "b2b1b431-e3e8-4e2e-86a2-af7cda820e74",
   "metadata": {},
   "source": [
    "14. How do you type a tuple value that only contains the integer 42?"
   ]
  },
  {
   "cell_type": "code",
   "execution_count": 21,
   "id": "10b8fac7-1645-4e74-a33b-cfbb73e4d124",
   "metadata": {},
   "outputs": [
    {
     "data": {
      "text/plain": [
       "42"
      ]
     },
     "execution_count": 21,
     "metadata": {},
     "output_type": "execute_result"
    }
   ],
   "source": [
    "(42)"
   ]
  },
  {
   "cell_type": "markdown",
   "id": "e93bfc53-75b1-41a5-aa95-d7c45428466b",
   "metadata": {},
   "source": [
    "15. How do you get a list value's tuple form? How do you get a tuple value's list form?"
   ]
  },
  {
   "cell_type": "markdown",
   "id": "57fac1a3-e649-4c34-9bff-cff310112f33",
   "metadata": {},
   "source": [
    "using built in function tuple() . "
   ]
  },
  {
   "cell_type": "markdown",
   "id": "ff4a3db0-d38b-416c-ae75-dd5299920e6e",
   "metadata": {},
   "source": [
    "16. Variables that \"contain\" list values are not necessarily lists themselves. Instead, what do they contain?"
   ]
  },
  {
   "cell_type": "markdown",
   "id": "5fcfbc30-8ec6-474b-a95d-8fed6d9a8f1d",
   "metadata": {},
   "source": [
    "Ans .it contains reference to list values rather than list values "
   ]
  },
  {
   "cell_type": "markdown",
   "id": "59b84230-a17e-4ae7-8f9e-3bb9f9e5512d",
   "metadata": {},
   "source": [
    "17. How do you distinguish between copy.copy() and copy.deepcopy()?"
   ]
  },
  {
   "cell_type": "markdown",
   "id": "03ada6dd-ea77-431e-a3bb-c1e9d7473360",
   "metadata": {},
   "source": [
    "ans . shallow copy uses the same location for storing  in the memory .\n",
    " where as deepcopy uses different location for storing  in the memory "
   ]
  },
  {
   "cell_type": "code",
   "execution_count": null,
   "id": "063a9430-a9bd-4775-9733-2aa05dbcddfd",
   "metadata": {},
   "outputs": [],
   "source": []
  }
 ],
 "metadata": {
  "kernelspec": {
   "display_name": "Python 3 (ipykernel)",
   "language": "python",
   "name": "python3"
  },
  "language_info": {
   "codemirror_mode": {
    "name": "ipython",
    "version": 3
   },
   "file_extension": ".py",
   "mimetype": "text/x-python",
   "name": "python",
   "nbconvert_exporter": "python",
   "pygments_lexer": "ipython3",
   "version": "3.10.6"
  }
 },
 "nbformat": 4,
 "nbformat_minor": 5
}
